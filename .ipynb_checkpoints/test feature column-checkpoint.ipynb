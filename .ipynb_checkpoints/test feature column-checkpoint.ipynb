{
 "cells": [
  {
   "cell_type": "code",
   "execution_count": 8,
   "metadata": {},
   "outputs": [],
   "source": [
    "import tensorflow as tf\n",
    "import pandas as pd\n",
    "\n",
    "from tensorflow import feature_column"
   ]
  },
  {
   "cell_type": "code",
   "execution_count": 54,
   "metadata": {},
   "outputs": [
    {
     "ename": "AttributeError",
     "evalue": "module 'tensorflow._api.v1.feature_column' has no attribute 'inpu3t_layer'",
     "output_type": "error",
     "traceback": [
      "\u001b[0;31m---------------------------------------------------------------------------\u001b[0m",
      "\u001b[0;31mAttributeError\u001b[0m                            Traceback (most recent call last)",
      "\u001b[0;32m<ipython-input-54-dd244abd7ceb>\u001b[0m in \u001b[0;36m<module>\u001b[0;34m()\u001b[0m\n\u001b[1;32m      6\u001b[0m \u001b[0;34m\u001b[0m\u001b[0m\n\u001b[1;32m      7\u001b[0m \u001b[0mindicator_vector\u001b[0m \u001b[0;34m=\u001b[0m \u001b[0mfeature_column\u001b[0m\u001b[0;34m.\u001b[0m\u001b[0mindicator_column\u001b[0m\u001b[0;34m(\u001b[0m\u001b[0mcolor_column\u001b[0m\u001b[0;34m)\u001b[0m\u001b[0;34m\u001b[0m\u001b[0m\n\u001b[0;32m----> 8\u001b[0;31m \u001b[0mvector\u001b[0m \u001b[0;34m=\u001b[0m \u001b[0mfeature_column\u001b[0m\u001b[0;34m.\u001b[0m\u001b[0minpu3t_layer\u001b[0m\u001b[0;34m(\u001b[0m\u001b[0mcolor_data\u001b[0m\u001b[0;34m,\u001b[0m \u001b[0;34m[\u001b[0m\u001b[0mindicator_vector\u001b[0m\u001b[0;34m]\u001b[0m\u001b[0;34m)\u001b[0m\u001b[0;34m\u001b[0m\u001b[0m\n\u001b[0m\u001b[1;32m      9\u001b[0m \u001b[0;34m\u001b[0m\u001b[0m\n\u001b[1;32m     10\u001b[0m \u001b[0mcolor_embeding\u001b[0m \u001b[0;34m=\u001b[0m \u001b[0mfeature_column\u001b[0m\u001b[0;34m.\u001b[0m\u001b[0membedding_column\u001b[0m\u001b[0;34m(\u001b[0m\u001b[0mcolor_column\u001b[0m\u001b[0;34m,\u001b[0m \u001b[0;36m8\u001b[0m\u001b[0;34m)\u001b[0m\u001b[0;34m\u001b[0m\u001b[0m\n",
      "\u001b[0;31mAttributeError\u001b[0m: module 'tensorflow._api.v1.feature_column' has no attribute 'inpu3t_layer'"
     ]
    }
   ],
   "source": [
    "color_data = {'color': [['G', 'B', 'd'], ['B', 'G', 'd'], ['B', 'R', 'd'], ['R', 'R', 'd']]}  # 4行样本\n",
    " \n",
    "color_column = feature_column.categorical_column_with_vocabulary_list(\n",
    "    'color', ['R', 'G', 'B'], dtype=tf.string, default_value=-1\n",
    ")\n",
    "\n",
    "indicator_vector = feature_column.indicator_column(color_column)\n",
    "vector = feature_column.inpu3t_layer(color_data, [indicator_vector])\n",
    "\n",
    "color_embeding = feature_column.embedding_column(color_column, 8)\n",
    "color_embeding_dense_tensor = feature_column.input_layer(color_data, [color_embeding])\n",
    "# builder = _LazyBuilder(color_data)\n",
    "# color_column_tensor = color_column._get_sparse_tensors(builder)\n",
    "\n",
    "with tf.Session() as session:\n",
    "    session.run(tf.global_variables_initializer())\n",
    "    session.run(tf.tables_initializer())\n",
    "    print(session.run(vector))\n",
    "\n",
    "with tf.Session() as session:\n",
    "    session.run(tf.global_variables_initializer())\n",
    "    session.run(tf.tables_initializer())\n",
    "    print('embeding' + '_' * 40)\n",
    "    print(session.run([color_embeding_dense_tensor]))\n"
   ]
  },
  {
   "cell_type": "code",
   "execution_count": 45,
   "metadata": {},
   "outputs": [
    {
     "name": "stdout",
     "output_type": "stream",
     "text": [
      "[array([[ 0.03695917,  0.07624821, -0.20565043, -0.18178435, -0.6174313 ,\n",
      "        -0.41385493,  0.3911001 ],\n",
      "       [ 0.09335201, -0.17389084, -0.14387248, -0.02885342, -0.30638638,\n",
      "        -0.17681491,  0.11556917],\n",
      "       [ 0.14974485, -0.4240299 , -0.08209454,  0.12407751,  0.00465851,\n",
      "         0.06022509, -0.15996176],\n",
      "       [ 0.0210127 ,  0.65834254, -0.07797327, -0.17712894,  0.1709937 ,\n",
      "         0.2767467 ,  0.20078649]], dtype=float32)]\n",
      "embeding________________________________________\n",
      "[array([[ 0.00199121, -0.42269462, -0.05502832,  0.6763399 ,  0.15939628,\n",
      "        -0.08229934, -0.05930928],\n",
      "       [-0.17571093, -0.33289298,  0.07458668,  0.27760366,  0.1482786 ,\n",
      "        -0.20874168,  0.17164946],\n",
      "       [-0.35341308, -0.24309133,  0.20420168, -0.1211326 ,  0.13716091,\n",
      "        -0.335184  ,  0.4026082 ],\n",
      "       [ 0.01195776, -0.28020173,  0.3933611 ,  0.42029282,  0.20062119,\n",
      "        -0.46550727,  0.6501519 ]], dtype=float32)]\n"
     ]
    }
   ],
   "source": [
    "\n",
    "color_data = {'color': [['G','G'], ['G','B'], ['B','B'], ['A','R']]}  # 4行样本\n",
    " \n",
    "color_column = feature_column.categorical_column_with_vocabulary_list(\n",
    "    'color', ['R', 'G', 'B'], dtype=tf.string, default_value=-1\n",
    ")\n",
    "\n",
    "color_embeding = feature_column.embedding_column(color_column, 7)\n",
    "color_embeding_dense_tensor = feature_column.input_layer(color_data, [color_embeding])\n",
    "\n",
    "with tf.Session() as session:\n",
    "    session.run(tf.global_variables_initializer())\n",
    "    session.run(tf.tables_initializer())\n",
    "    print(session.run([color_embeding_dense_tensor]))\n",
    "\n",
    "with tf.Session() as session:\n",
    "    session.run(tf.global_variables_initializer())\n",
    "    session.run(tf.tables_initializer())\n",
    "    print('embeding' + '_' * 40)\n",
    "    print(session.run([color_embeding_dense_tensor]))\n"
   ]
  },
  {
   "cell_type": "code",
   "execution_count": 53,
   "metadata": {},
   "outputs": [
    {
     "name": "stdout",
     "output_type": "stream",
     "text": [
      "[ 0.314755   -0.34939358  0.17626297 -0.05037636  0.07970044  0.17088315\n",
      "  0.02329114  0.16994148  0.03235345 -0.22826946  0.07577255 -0.07643986\n",
      " -0.14482813  0.20449671 -0.12375472  0.0847514  -0.12142695 -0.27716255\n",
      " -0.02836926  0.08339463]\n"
     ]
    }
   ],
   "source": [
    "tf.reset_default_graph()\n",
    "color_data = {'color': [['G', 'B'], ['B', 'G'], ['C'], ['R', 'R']]} \n",
    "m = dict(zip(['R', 'G', 'B', 'C'], range(4)))\n",
    "embedding = tf.get_variable('nembeddings', [3, 20])\n",
    "\n",
    "def processor(word_list):\n",
    "    l = [m[_] for _ in word_list]\n",
    "    embeds = tf.nn.embedding_lookup(embedding, l)\n",
    "    return tf.reduce_mean(embeds, axis=0)\n",
    "\n",
    "vector = processor(['R', 'G'])\n",
    "\n",
    "with tf.Session() as session:\n",
    "    session.run(tf.global_variables_initializer())\n",
    "    print(session.run(vector))"
   ]
  },
  {
   "cell_type": "code",
   "execution_count": 49,
   "metadata": {},
   "outputs": [
    {
     "name": "stdout",
     "output_type": "stream",
     "text": [
      "Help on function reduce_mean in module tensorflow.python.ops.math_ops:\n",
      "\n",
      "reduce_mean(input_tensor, axis=None, keepdims=None, name=None, reduction_indices=None, keep_dims=None)\n",
      "    Computes the mean of elements across dimensions of a tensor. (deprecated arguments)\n",
      "    \n",
      "    SOME ARGUMENTS ARE DEPRECATED. They will be removed in a future version.\n",
      "    Instructions for updating:\n",
      "    keep_dims is deprecated, use keepdims instead\n",
      "    \n",
      "    Reduces `input_tensor` along the dimensions given in `axis`.\n",
      "    Unless `keepdims` is true, the rank of the tensor is reduced by 1 for each\n",
      "    entry in `axis`. If `keepdims` is true, the reduced dimensions\n",
      "    are retained with length 1.\n",
      "    \n",
      "    If `axis` is None, all dimensions are reduced, and a\n",
      "    tensor with a single element is returned.\n",
      "    \n",
      "    For example:\n",
      "    \n",
      "    ```python\n",
      "    x = tf.constant([[1., 1.], [2., 2.]])\n",
      "    tf.reduce_mean(x)  # 1.5\n",
      "    tf.reduce_mean(x, 0)  # [1.5, 1.5]\n",
      "    tf.reduce_mean(x, 1)  # [1.,  2.]\n",
      "    ```\n",
      "    \n",
      "    Args:\n",
      "      input_tensor: The tensor to reduce. Should have numeric type.\n",
      "      axis: The dimensions to reduce. If `None` (the default),\n",
      "        reduces all dimensions. Must be in the range\n",
      "        `[-rank(input_tensor), rank(input_tensor))`.\n",
      "      keepdims: If true, retains reduced dimensions with length 1.\n",
      "      name: A name for the operation (optional).\n",
      "      reduction_indices: The old (deprecated) name for axis.\n",
      "      keep_dims: Deprecated alias for `keepdims`.\n",
      "    \n",
      "    Returns:\n",
      "      The reduced tensor.\n",
      "    \n",
      "    @compatibility(numpy)\n",
      "    Equivalent to np.mean\n",
      "    \n",
      "    Please note that `np.mean` has a `dtype` parameter that could be used to\n",
      "    specify the output type. By default this is `dtype=float64`. On the other\n",
      "    hand, `tf.reduce_mean` has an aggressive type inference from `input_tensor`,\n",
      "    for example:\n",
      "    \n",
      "    ```python\n",
      "    x = tf.constant([1, 0, 1, 0])\n",
      "    tf.reduce_mean(x)  # 0\n",
      "    y = tf.constant([1., 0., 1., 0.])\n",
      "    tf.reduce_mean(y)  # 0.5\n",
      "    ```\n",
      "    \n",
      "    @end_compatibility\n",
      "\n"
     ]
    }
   ],
   "source": [
    "help(tf.reduce_mean)"
   ]
  },
  {
   "cell_type": "code",
   "execution_count": null,
   "metadata": {
    "collapsed": true
   },
   "outputs": [],
   "source": []
  }
 ],
 "metadata": {
  "kernelspec": {
   "display_name": "Python 3",
   "language": "python",
   "name": "python3"
  },
  "language_info": {
   "codemirror_mode": {
    "name": "ipython",
    "version": 3
   },
   "file_extension": ".py",
   "mimetype": "text/x-python",
   "name": "python",
   "nbconvert_exporter": "python",
   "pygments_lexer": "ipython3",
   "version": "3.6.3"
  }
 },
 "nbformat": 4,
 "nbformat_minor": 2
}
