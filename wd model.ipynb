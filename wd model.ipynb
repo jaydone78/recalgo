{
 "cells": [
  {
   "cell_type": "code",
   "execution_count": 1,
   "metadata": {},
   "outputs": [
    {
     "name": "stderr",
     "output_type": "stream",
     "text": [
      "/Users/qianjay/anaconda3/lib/python3.6/site-packages/h5py/__init__.py:34: FutureWarning: Conversion of the second argument of issubdtype from `float` to `np.floating` is deprecated. In future, it will be treated as `np.float64 == np.dtype(float).type`.\n",
      "  from ._conv import register_converters as _register_converters\n"
     ]
    }
   ],
   "source": [
    "import tensorflow as tf\n"
   ]
  },
  {
   "cell_type": "code",
   "execution_count": 2,
   "metadata": {},
   "outputs": [],
   "source": [
    "_FEATURE_LEN = {\n",
    "    'language': 20,\n",
    "    'channelid': 16,\n",
    "    'paytype': 2,\n",
    "    'updatetype': 2,\n",
    "    'cpid': 6,\n",
    "    'area': 187,\n",
    "    'director': 15124,\n",
    "    'actor': 15231,\n",
    "    'tag': 9430\n",
    "}\n",
    "\n",
    "_FEATURE_EMBEDDING_SIZE = {\n",
    "    'language': 2,\n",
    "    'channelid': 2,\n",
    "    'paytype': 2,\n",
    "    'updatetype': 2,\n",
    "    'cpid': 4,\n",
    "    'area': 16,\n",
    "    'director': 32,\n",
    "    'actor': 32,\n",
    "    'tag': 32\n",
    "}\n",
    "\n",
    "\n",
    "updatetype = tf.feature_column.categorical_column_with_vocabulary_list(\n",
    "            'updatetype', range(_FEATURE_LEN['updatetype']))\n",
    "channelid = tf.feature_column.categorical_column_with_vocabulary_list(\n",
    "            'channelid', range(_FEATURE_LEN['channelid']))\n",
    "area = tf.feature_column.categorical_column_with_vocabulary_list(\n",
    "            'area', range(_FEATURE_LEN['area']))\n",
    "cpid = tf.feature_column.categorical_column_with_vocabulary_list(\n",
    "            'cpid', range(_FEATURE_LEN['cpid']))\n",
    "actor = tf.feature_column.categorical_column_with_vocabulary_list(\n",
    "            'actor', range(_FEATURE_LEN['actor']))\n",
    "director = tf.feature_column.categorical_column_with_vocabulary_list(\n",
    "            'director', range(_FEATURE_LEN['director']))\n",
    "language = tf.feature_column.categorical_column_with_vocabulary_list(\n",
    "            'laguange', range(_FEATURE_LEN['language']))\n",
    "paytype = tf.feature_column.categorical_column_with_vocabulary_list(\n",
    "            'paytype', range(_FEATURE_LEN['paytype']))\n",
    "score = tf.feature_column.numeric_column('score')\n",
    "tag = tf.feature_column.categorical_column_with_vocabulary_list(\n",
    "            'tag', range(_FEATURE_LEN['tag']))\n",
    "year = tf.feature_column.numeric_column('year')\n",
    "\n",
    "updatetype1 = tf.feature_column.categorical_column_with_vocabulary_list(\n",
    "            'updatetype1', range(_FEATURE_LEN['updatetype']))\n",
    "channelid1 = tf.feature_column.categorical_column_with_vocabulary_list(\n",
    "            'channelid1', range(_FEATURE_LEN['channelid']))\n",
    "area1 = tf.feature_column.categorical_column_with_vocabulary_list(\n",
    "            'area1', range(_FEATURE_LEN['area']))\n",
    "cpid1 = tf.feature_column.categorical_column_with_vocabulary_list(\n",
    "            'cpid1', range(_FEATURE_LEN['cpid']))\n",
    "actor1 = tf.feature_column.categorical_column_with_vocabulary_list(\n",
    "            'actor1', range(_FEATURE_LEN['actor']))\n",
    "director1 = tf.feature_column.categorical_column_with_vocabulary_list(\n",
    "            'director1', range(_FEATURE_LEN['director']))\n",
    "language1 = tf.feature_column.categorical_column_with_vocabulary_list(\n",
    "            'laguange1', range(_FEATURE_LEN['language']))\n",
    "paytype1 = tf.feature_column.categorical_column_with_vocabulary_list(\n",
    "            'paytype1', range(_FEATURE_LEN['paytype']))\n",
    "\n",
    "score1 = tf.feature_column.numeric_column('score1')\n",
    "tag1 = tf.feature_column.categorical_column_with_vocabulary_list(\n",
    "            'tag1', range(_FEATURE_LEN['tag']))\n",
    "year1 = tf.feature_column.numeric_column('year1')\n",
    "\n",
    "deep_columns = [\n",
    "    updatetype,\n",
    "    tf.feature_column.shared_embedding_columns\n",
    "        ([channelid, channelid1], dimension=_FEATURE_EMBEDDING_SIZE['channelid']),\n",
    "    tf.feature_column.shared_embedding_columns\n",
    "        ([area, area1], dimension=_FEATURE_EMBEDDING_SIZE['area']),\n",
    "    tf.feature_column.shared_embedding_columns\n",
    "        ([cpid, cpid1], dimension=_FEATURE_EMBEDDING_SIZE['cpid']),\n",
    "    tf.feature_column.shared_embedding_columns\n",
    "        ([actor, actor1], dimension=_FEATURE_EMBEDDING_SIZE['actor']),\n",
    "    tf.feature_column.shared_embedding_columns\n",
    "        ([director, director1], dimension=_FEATURE_EMBEDDING_SIZE['director']),\n",
    "    tf.feature_column.shared_embedding_columns\n",
    "        ([language, language1], dimension=_FEATURE_EMBEDDING_SIZE['language']),\n",
    "    tf.feature_column.shared_embedding_columns\n",
    "        ([paytype, paytype1], dimension=_FEATURE_EMBEDDING_SIZE['paytype']),\n",
    "    score,\n",
    "    tf.feature_column.shared_embedding_columns\n",
    "        ([tag, tag1], dimension=_FEATURE_EMBEDDING_SIZE['tag']),\n",
    "    year,\n",
    "    updatetype1,\n",
    "    score1,\n",
    "    year1\n",
    "]\n",
    "\n",
    "base_columns = [\n",
    "    updatetype,\n",
    "    channelid,\n",
    "    area,\n",
    "    cpid,\n",
    "    actor,\n",
    "    director,\n",
    "    language,\n",
    "    paytype,\n",
    "    updatetype1,\n",
    "    channelid1,\n",
    "    area1,\n",
    "    cpid1,\n",
    "    actor1,\n",
    "    director1,\n",
    "    language1,\n",
    "    paytype1,\n",
    "]\n",
    "\n",
    "_HASH_BUCKET_SIZE = 1024\n",
    "\n",
    "cross_columns = [\n",
    "    tf.feature_column.crossed_column(\n",
    "    ['actor', 'actor1'], hash_bucket_size=_HASH_BUCKET_SIZE),\n",
    "    tf.feature_column.crossed_column(\n",
    "    ['director', 'director1'], hash_bucket_size=_HASH_BUCKET_SIZE),\n",
    "    tf.feature_column.crossed_column(\n",
    "    ['cpid', 'cpid1'], hash_bucket_size=_HASH_BUCKET_SIZE),\n",
    "    tf.feature_column.crossed_column(\n",
    "    ['tag', 'tag1'], hash_bucket_size=_HASH_BUCKET_SIZE)\n",
    "]\n",
    "\n",
    "wide_columns = base_columns + cross_columns \n",
    "\n",
    "\n"
   ]
  },
  {
   "cell_type": "code",
   "execution_count": 3,
   "metadata": {
    "collapsed": true
   },
   "outputs": [],
   "source": [
    "dataset = tf.data.Dataset.from_tensors({'key': [[1], [2]], 'value': [[2], [3]]})"
   ]
  },
  {
   "cell_type": "code",
   "execution_count": 4,
   "metadata": {},
   "outputs": [
    {
     "data": {
      "text/plain": [
       "<RepeatDataset shapes: {key: (2, 1), value: (2, 1)}, types: {key: tf.int32, value: tf.int32}>"
      ]
     },
     "execution_count": 4,
     "metadata": {},
     "output_type": "execute_result"
    }
   ],
   "source": [
    "dataset.repeat(32)"
   ]
  },
  {
   "cell_type": "code",
   "execution_count": 5,
   "metadata": {},
   "outputs": [
    {
     "data": {
      "text/plain": [
       "<BatchDataset shapes: {key: (?, 2, 1), value: (?, 2, 1)}, types: {key: tf.int32, value: tf.int32}>"
      ]
     },
     "execution_count": 5,
     "metadata": {},
     "output_type": "execute_result"
    }
   ],
   "source": [
    "dataset.batch(32)"
   ]
  },
  {
   "cell_type": "code",
   "execution_count": 6,
   "metadata": {
    "collapsed": true
   },
   "outputs": [],
   "source": [
    "import pandas as pd"
   ]
  },
  {
   "cell_type": "code",
   "execution_count": 30,
   "metadata": {},
   "outputs": [
    {
     "data": {
      "text/html": [
       "<div>\n",
       "<style>\n",
       "    .dataframe thead tr:only-child th {\n",
       "        text-align: right;\n",
       "    }\n",
       "\n",
       "    .dataframe thead th {\n",
       "        text-align: left;\n",
       "    }\n",
       "\n",
       "    .dataframe tbody tr th {\n",
       "        vertical-align: top;\n",
       "    }\n",
       "</style>\n",
       "<table border=\"1\" class=\"dataframe\">\n",
       "  <thead>\n",
       "    <tr style=\"text-align: right;\">\n",
       "      <th></th>\n",
       "      <th>Updatetype</th>\n",
       "      <th>actor</th>\n",
       "      <th>albumname</th>\n",
       "      <th>area</th>\n",
       "      <th>channelid</th>\n",
       "      <th>cpid</th>\n",
       "      <th>director</th>\n",
       "      <th>id</th>\n",
       "      <th>language</th>\n",
       "      <th>paytype</th>\n",
       "      <th>score</th>\n",
       "      <th>tag</th>\n",
       "      <th>year</th>\n",
       "    </tr>\n",
       "  </thead>\n",
       "  <tbody>\n",
       "    <tr>\n",
       "      <th>0</th>\n",
       "      <td>0</td>\n",
       "      <td>9850</td>\n",
       "      <td>庆元明代银矿探秘</td>\n",
       "      <td>65</td>\n",
       "      <td>0</td>\n",
       "      <td>0</td>\n",
       "      <td>9675</td>\n",
       "      <td>02|3294913</td>\n",
       "      <td>0</td>\n",
       "      <td>0</td>\n",
       "      <td>7.6</td>\n",
       "      <td>7676</td>\n",
       "      <td>2017</td>\n",
       "    </tr>\n",
       "    <tr>\n",
       "      <th>1</th>\n",
       "      <td>0</td>\n",
       "      <td>9850</td>\n",
       "      <td>习近平就俄罗斯军机坠毁事件向普京致慰问电</td>\n",
       "      <td>65</td>\n",
       "      <td>1</td>\n",
       "      <td>0</td>\n",
       "      <td>9675</td>\n",
       "      <td>02|3164963</td>\n",
       "      <td>0</td>\n",
       "      <td>0</td>\n",
       "      <td>8.2</td>\n",
       "      <td>647,8875</td>\n",
       "      <td>2016</td>\n",
       "    </tr>\n",
       "    <tr>\n",
       "      <th>2</th>\n",
       "      <td>0</td>\n",
       "      <td>9850</td>\n",
       "      <td>走一线看经济 大有可为的甜蜜事业</td>\n",
       "      <td>65</td>\n",
       "      <td>1</td>\n",
       "      <td>0</td>\n",
       "      <td>9675</td>\n",
       "      <td>02|3561132</td>\n",
       "      <td>0</td>\n",
       "      <td>0</td>\n",
       "      <td>8.0</td>\n",
       "      <td>0</td>\n",
       "      <td>2018</td>\n",
       "    </tr>\n",
       "    <tr>\n",
       "      <th>3</th>\n",
       "      <td>0</td>\n",
       "      <td>9850</td>\n",
       "      <td>壹起去旅行</td>\n",
       "      <td>65</td>\n",
       "      <td>1</td>\n",
       "      <td>0</td>\n",
       "      <td>9675</td>\n",
       "      <td>02|12271</td>\n",
       "      <td>1</td>\n",
       "      <td>0</td>\n",
       "      <td>8.0</td>\n",
       "      <td>5891,7379</td>\n",
       "      <td>2016</td>\n",
       "    </tr>\n",
       "    <tr>\n",
       "      <th>4</th>\n",
       "      <td>0</td>\n",
       "      <td>9850</td>\n",
       "      <td>德云社：桃花女破周公（郭德纲）</td>\n",
       "      <td>65</td>\n",
       "      <td>1</td>\n",
       "      <td>0</td>\n",
       "      <td>4128</td>\n",
       "      <td>02|966626</td>\n",
       "      <td>2</td>\n",
       "      <td>0</td>\n",
       "      <td>6.1</td>\n",
       "      <td>8976</td>\n",
       "      <td>2013</td>\n",
       "    </tr>\n",
       "  </tbody>\n",
       "</table>\n",
       "</div>"
      ],
      "text/plain": [
       "   Updatetype actor             albumname area  channelid  cpid director  \\\n",
       "0           0  9850              庆元明代银矿探秘   65          0     0     9675   \n",
       "1           0  9850  习近平就俄罗斯军机坠毁事件向普京致慰问电   65          1     0     9675   \n",
       "2           0  9850      走一线看经济 大有可为的甜蜜事业   65          1     0     9675   \n",
       "3           0  9850                 壹起去旅行   65          1     0     9675   \n",
       "4           0  9850       德云社：桃花女破周公（郭德纲）   65          1     0     4128   \n",
       "\n",
       "           id  language  paytype score        tag  year  \n",
       "0  02|3294913         0        0   7.6       7676  2017  \n",
       "1  02|3164963         0        0   8.2   647,8875  2016  \n",
       "2  02|3561132         0        0   8.0          0  2018  \n",
       "3    02|12271         1        0   8.0  5891,7379  2016  \n",
       "4   02|966626         2        0   6.1       8976  2013  "
      ]
     },
     "execution_count": 30,
     "metadata": {},
     "output_type": "execute_result"
    }
   ],
   "source": [
    "data = pd.read_json('/Users/qianjay/video_parsed.dat')\n",
    "data.head()\n",
    "\n"
   ]
  },
  {
   "cell_type": "code",
   "execution_count": 31,
   "metadata": {
    "collapsed": true
   },
   "outputs": [],
   "source": [
    "data = data[['id', 'actor', 'Updatetype', 'area', 'channelid', 'cpid', 'director', 'language', 'paytype', 'score', 'tag', 'year']]\n",
    "data['updatetype'] = data['Updatetype']\n",
    "data = data.drop(['Updatetype'], axis=1)"
   ]
  },
  {
   "cell_type": "code",
   "execution_count": 32,
   "metadata": {},
   "outputs": [
    {
     "data": {
      "text/html": [
       "<div>\n",
       "<style>\n",
       "    .dataframe thead tr:only-child th {\n",
       "        text-align: right;\n",
       "    }\n",
       "\n",
       "    .dataframe thead th {\n",
       "        text-align: left;\n",
       "    }\n",
       "\n",
       "    .dataframe tbody tr th {\n",
       "        vertical-align: top;\n",
       "    }\n",
       "</style>\n",
       "<table border=\"1\" class=\"dataframe\">\n",
       "  <thead>\n",
       "    <tr style=\"text-align: right;\">\n",
       "      <th></th>\n",
       "      <th>id</th>\n",
       "      <th>actor</th>\n",
       "      <th>area</th>\n",
       "      <th>channelid</th>\n",
       "      <th>cpid</th>\n",
       "      <th>director</th>\n",
       "      <th>language</th>\n",
       "      <th>paytype</th>\n",
       "      <th>score</th>\n",
       "      <th>tag</th>\n",
       "      <th>year</th>\n",
       "      <th>updatetype</th>\n",
       "    </tr>\n",
       "  </thead>\n",
       "  <tbody>\n",
       "    <tr>\n",
       "      <th>0</th>\n",
       "      <td>02|3294913</td>\n",
       "      <td>9850</td>\n",
       "      <td>65</td>\n",
       "      <td>0</td>\n",
       "      <td>0</td>\n",
       "      <td>9675</td>\n",
       "      <td>0</td>\n",
       "      <td>0</td>\n",
       "      <td>7.6</td>\n",
       "      <td>7676</td>\n",
       "      <td>2017</td>\n",
       "      <td>0</td>\n",
       "    </tr>\n",
       "    <tr>\n",
       "      <th>1</th>\n",
       "      <td>02|3164963</td>\n",
       "      <td>9850</td>\n",
       "      <td>65</td>\n",
       "      <td>1</td>\n",
       "      <td>0</td>\n",
       "      <td>9675</td>\n",
       "      <td>0</td>\n",
       "      <td>0</td>\n",
       "      <td>8.2</td>\n",
       "      <td>647,8875</td>\n",
       "      <td>2016</td>\n",
       "      <td>0</td>\n",
       "    </tr>\n",
       "    <tr>\n",
       "      <th>2</th>\n",
       "      <td>02|3561132</td>\n",
       "      <td>9850</td>\n",
       "      <td>65</td>\n",
       "      <td>1</td>\n",
       "      <td>0</td>\n",
       "      <td>9675</td>\n",
       "      <td>0</td>\n",
       "      <td>0</td>\n",
       "      <td>8.0</td>\n",
       "      <td>0</td>\n",
       "      <td>2018</td>\n",
       "      <td>0</td>\n",
       "    </tr>\n",
       "    <tr>\n",
       "      <th>3</th>\n",
       "      <td>02|12271</td>\n",
       "      <td>9850</td>\n",
       "      <td>65</td>\n",
       "      <td>1</td>\n",
       "      <td>0</td>\n",
       "      <td>9675</td>\n",
       "      <td>1</td>\n",
       "      <td>0</td>\n",
       "      <td>8.0</td>\n",
       "      <td>5891,7379</td>\n",
       "      <td>2016</td>\n",
       "      <td>0</td>\n",
       "    </tr>\n",
       "    <tr>\n",
       "      <th>4</th>\n",
       "      <td>02|966626</td>\n",
       "      <td>9850</td>\n",
       "      <td>65</td>\n",
       "      <td>1</td>\n",
       "      <td>0</td>\n",
       "      <td>4128</td>\n",
       "      <td>2</td>\n",
       "      <td>0</td>\n",
       "      <td>6.1</td>\n",
       "      <td>8976</td>\n",
       "      <td>2013</td>\n",
       "      <td>0</td>\n",
       "    </tr>\n",
       "  </tbody>\n",
       "</table>\n",
       "</div>"
      ],
      "text/plain": [
       "           id actor area  channelid  cpid director  language  paytype score  \\\n",
       "0  02|3294913  9850   65          0     0     9675         0        0   7.6   \n",
       "1  02|3164963  9850   65          1     0     9675         0        0   8.2   \n",
       "2  02|3561132  9850   65          1     0     9675         0        0   8.0   \n",
       "3    02|12271  9850   65          1     0     9675         1        0   8.0   \n",
       "4   02|966626  9850   65          1     0     4128         2        0   6.1   \n",
       "\n",
       "         tag  year  updatetype  \n",
       "0       7676  2017           0  \n",
       "1   647,8875  2016           0  \n",
       "2          0  2018           0  \n",
       "3  5891,7379  2016           0  \n",
       "4       8976  2013           0  "
      ]
     },
     "execution_count": 32,
     "metadata": {},
     "output_type": "execute_result"
    }
   ],
   "source": [
    "data.head()"
   ]
  },
  {
   "cell_type": "code",
   "execution_count": 33,
   "metadata": {
    "collapsed": true
   },
   "outputs": [],
   "source": [
    "SINGLE_FEATURE_COLUMN = {'channelid', 'cpid', 'language', 'paytype'}\n",
    "data_dict = {}\n",
    "for key in SINGLE_FEATURE_COLUMN:\n",
    "    l = [[v] for v in data[key].tolist()]\n",
    "    data_dict[key] = l"
   ]
  },
  {
   "cell_type": "code",
   "execution_count": 34,
   "metadata": {
    "collapsed": true
   },
   "outputs": [],
   "source": [
    "dataset = tf.data.Dataset.from_tensors(data_dict)"
   ]
  },
  {
   "cell_type": "code",
   "execution_count": 35,
   "metadata": {},
   "outputs": [
    {
     "data": {
      "text/plain": [
       "<TensorDataset shapes: {paytype: (171962, 1), language: (171962, 1), cpid: (171962, 1), channelid: (171962, 1)}, types: {paytype: tf.int32, language: tf.int32, cpid: tf.int32, channelid: tf.int32}>"
      ]
     },
     "execution_count": 35,
     "metadata": {},
     "output_type": "execute_result"
    }
   ],
   "source": [
    "dataset"
   ]
  },
  {
   "cell_type": "code",
   "execution_count": 36,
   "metadata": {},
   "outputs": [
    {
     "name": "stdout",
     "output_type": "stream",
     "text": [
      "54\n",
      "63\n",
      "8\n",
      "23\n"
     ]
    }
   ],
   "source": [
    "MULTI_FEATURE_COLUMNS = {'actor', 'area', 'director', 'tag'}\n",
    "for key in MULTI_FEATURE_COLUMNS:\n",
    "    l = [str(v).split(',') for v in data[key].tolist()]\n",
    "    l = [[int(v) for v in vv] for vv in l]\n",
    "    maxl = max([len(word) for word in l])\n",
    "    print(maxl)\n",
    "    for v in l:\n",
    "        while len(v) < maxl:\n",
    "            v.append(-1)\n",
    "    data_dict[key] = l\n",
    "\n",
    "\n"
   ]
  },
  {
   "cell_type": "code",
   "execution_count": 38,
   "metadata": {},
   "outputs": [
    {
     "data": {
      "text/plain": [
       "dict_keys(['paytype', 'language', 'cpid', 'channelid', 'actor', 'director', 'area', 'tag'])"
      ]
     },
     "execution_count": 38,
     "metadata": {},
     "output_type": "execute_result"
    }
   ],
   "source": [
    "data_dict.keys()"
   ]
  },
  {
   "cell_type": "code",
   "execution_count": 28,
   "metadata": {
    "collapsed": true
   },
   "outputs": [],
   "source": [
    "dataset = tf.data.Dataset.from_tensors(data_dict)"
   ]
  },
  {
   "cell_type": "code",
   "execution_count": 29,
   "metadata": {},
   "outputs": [
    {
     "data": {
      "text/plain": [
       "<TensorDataset shapes: {paytype: (171962, 1), language: (171962, 1), cpid: (171962, 1), channelid: (171962, 1), actor: (171962, 54), director: (171962, 63), area: (171962, 8), tag: (171962, 23)}, types: {paytype: tf.int32, language: tf.int32, cpid: tf.int32, channelid: tf.int32, actor: tf.int32, director: tf.int32, area: tf.int32, tag: tf.int32}>"
      ]
     },
     "execution_count": 29,
     "metadata": {},
     "output_type": "execute_result"
    }
   ],
   "source": [
    "dataset"
   ]
  },
  {
   "cell_type": "code",
   "execution_count": 25,
   "metadata": {},
   "outputs": [
    {
     "data": {
      "text/html": [
       "<div>\n",
       "<style>\n",
       "    .dataframe thead tr:only-child th {\n",
       "        text-align: right;\n",
       "    }\n",
       "\n",
       "    .dataframe thead th {\n",
       "        text-align: left;\n",
       "    }\n",
       "\n",
       "    .dataframe tbody tr th {\n",
       "        vertical-align: top;\n",
       "    }\n",
       "</style>\n",
       "<table border=\"1\" class=\"dataframe\">\n",
       "  <thead>\n",
       "    <tr style=\"text-align: right;\">\n",
       "      <th></th>\n",
       "      <th>id</th>\n",
       "      <th>actor</th>\n",
       "      <th>area</th>\n",
       "      <th>channelid</th>\n",
       "      <th>cpid</th>\n",
       "      <th>director</th>\n",
       "      <th>language</th>\n",
       "      <th>paytype</th>\n",
       "      <th>score</th>\n",
       "      <th>tag</th>\n",
       "      <th>year</th>\n",
       "      <th>updatetype</th>\n",
       "    </tr>\n",
       "  </thead>\n",
       "  <tbody>\n",
       "    <tr>\n",
       "      <th>0</th>\n",
       "      <td>02|3294913</td>\n",
       "      <td>9850</td>\n",
       "      <td>65</td>\n",
       "      <td>0</td>\n",
       "      <td>0</td>\n",
       "      <td>9675</td>\n",
       "      <td>0</td>\n",
       "      <td>0</td>\n",
       "      <td>7.6</td>\n",
       "      <td>7676</td>\n",
       "      <td>2017</td>\n",
       "      <td>0</td>\n",
       "    </tr>\n",
       "    <tr>\n",
       "      <th>1</th>\n",
       "      <td>02|3164963</td>\n",
       "      <td>9850</td>\n",
       "      <td>65</td>\n",
       "      <td>1</td>\n",
       "      <td>0</td>\n",
       "      <td>9675</td>\n",
       "      <td>0</td>\n",
       "      <td>0</td>\n",
       "      <td>8.2</td>\n",
       "      <td>647,8875</td>\n",
       "      <td>2016</td>\n",
       "      <td>0</td>\n",
       "    </tr>\n",
       "    <tr>\n",
       "      <th>2</th>\n",
       "      <td>02|3561132</td>\n",
       "      <td>9850</td>\n",
       "      <td>65</td>\n",
       "      <td>1</td>\n",
       "      <td>0</td>\n",
       "      <td>9675</td>\n",
       "      <td>0</td>\n",
       "      <td>0</td>\n",
       "      <td>8.0</td>\n",
       "      <td>0</td>\n",
       "      <td>2018</td>\n",
       "      <td>0</td>\n",
       "    </tr>\n",
       "    <tr>\n",
       "      <th>3</th>\n",
       "      <td>02|12271</td>\n",
       "      <td>9850</td>\n",
       "      <td>65</td>\n",
       "      <td>1</td>\n",
       "      <td>0</td>\n",
       "      <td>9675</td>\n",
       "      <td>1</td>\n",
       "      <td>0</td>\n",
       "      <td>8.0</td>\n",
       "      <td>5891,7379</td>\n",
       "      <td>2016</td>\n",
       "      <td>0</td>\n",
       "    </tr>\n",
       "    <tr>\n",
       "      <th>4</th>\n",
       "      <td>02|966626</td>\n",
       "      <td>9850</td>\n",
       "      <td>65</td>\n",
       "      <td>1</td>\n",
       "      <td>0</td>\n",
       "      <td>4128</td>\n",
       "      <td>2</td>\n",
       "      <td>0</td>\n",
       "      <td>6.1</td>\n",
       "      <td>8976</td>\n",
       "      <td>2013</td>\n",
       "      <td>0</td>\n",
       "    </tr>\n",
       "  </tbody>\n",
       "</table>\n",
       "</div>"
      ],
      "text/plain": [
       "           id actor area  channelid  cpid director  language  paytype score  \\\n",
       "0  02|3294913  9850   65          0     0     9675         0        0   7.6   \n",
       "1  02|3164963  9850   65          1     0     9675         0        0   8.2   \n",
       "2  02|3561132  9850   65          1     0     9675         0        0   8.0   \n",
       "3    02|12271  9850   65          1     0     9675         1        0   8.0   \n",
       "4   02|966626  9850   65          1     0     4128         2        0   6.1   \n",
       "\n",
       "         tag  year  updatetype  \n",
       "0       7676  2017           0  \n",
       "1   647,8875  2016           0  \n",
       "2          0  2018           0  \n",
       "3  5891,7379  2016           0  \n",
       "4       8976  2013           0  "
      ]
     },
     "execution_count": 25,
     "metadata": {},
     "output_type": "execute_result"
    }
   ],
   "source": [
    "data.head()"
   ]
  },
  {
   "cell_type": "code",
   "execution_count": null,
   "metadata": {
    "collapsed": true
   },
   "outputs": [],
   "source": []
  },
  {
   "cell_type": "code",
   "execution_count": 22,
   "metadata": {},
   "outputs": [
    {
     "name": "stdout",
     "output_type": "stream",
     "text": [
      "9940,6485,4376,1209,14021,8288,13115,9043,6068,6717,1899,5097,12724,8364,3038,895,383,9632,14989,5135,4738,4601,13202,2021,13121,5084,6393,2396,2793,5392,2372,12470,9154,4031,865,12190,7232,9569,3144,14654,13306,9136,9905,1003,6204,974,9887,9581,559,9300,3814,12608,10994,4992\n"
     ]
    }
   ],
   "source": [
    "[len(str(v).split(',')) for v in data['actor']]\n",
    "\n",
    "for v in data['actor']:\n",
    "    if len(str(v).split(',')) == 54:\n",
    "        print(v)\n"
   ]
  }
 ],
 "metadata": {
  "kernelspec": {
   "display_name": "Python 3",
   "language": "python",
   "name": "python3"
  },
  "language_info": {
   "codemirror_mode": {
    "name": "ipython",
    "version": 3
   },
   "file_extension": ".py",
   "mimetype": "text/x-python",
   "name": "python",
   "nbconvert_exporter": "python",
   "pygments_lexer": "ipython3",
   "version": "3.6.3"
  }
 },
 "nbformat": 4,
 "nbformat_minor": 2
}
